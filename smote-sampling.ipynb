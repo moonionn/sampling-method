{
 "cells": [
  {
   "cell_type": "code",
   "execution_count": 1,
   "id": "initial_id",
   "metadata": {
    "collapsed": true,
    "ExecuteTime": {
     "end_time": "2024-04-18T07:26:09.390495Z",
     "start_time": "2024-04-18T07:26:09.229142Z"
    }
   },
   "outputs": [],
   "source": [
    "from sklearn.preprocessing import StandardScaler\n",
    "from sklearn.utils import resample\n",
    "import numpy as np\n",
    "import pandas as pd\n",
    "wine_df = pd.read_csv('dataset/winequality-red.csv')\n",
    "\n",
    "# Normalize the data\n",
    "scaler = StandardScaler()\n",
    "scaled_features = scaler.fit_transform(wine_df.drop('quality', axis=1))\n",
    "scaled_wine_data = pd.DataFrame(scaled_features, columns=wine_df.columns[:-1])\n",
    "scaled_wine_data['quality'] = wine_df['quality']"
   ]
  },
  {
   "cell_type": "markdown",
   "source": [
    "### 利用SMOTE進行OverSampling"
   ],
   "metadata": {
    "collapsed": false
   },
   "id": "37d96d93bf08ea14"
  },
  {
   "cell_type": "code",
   "outputs": [],
   "source": [],
   "metadata": {
    "collapsed": false
   },
   "id": "e9795aceb9b8ec0e"
  }
 ],
 "metadata": {
  "kernelspec": {
   "display_name": "Python 3",
   "language": "python",
   "name": "python3"
  },
  "language_info": {
   "codemirror_mode": {
    "name": "ipython",
    "version": 2
   },
   "file_extension": ".py",
   "mimetype": "text/x-python",
   "name": "python",
   "nbconvert_exporter": "python",
   "pygments_lexer": "ipython2",
   "version": "2.7.6"
  }
 },
 "nbformat": 4,
 "nbformat_minor": 5
}
